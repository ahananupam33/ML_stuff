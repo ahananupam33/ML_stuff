{
  "nbformat": 4,
  "nbformat_minor": 0,
  "metadata": {
    "colab": {
      "name": "Job_Churn_rate.ipynb",
      "provenance": [],
      "collapsed_sections": []
    },
    "kernelspec": {
      "name": "python3",
      "display_name": "Python 3"
    },
    "language_info": {
      "name": "python"
    }
  },
  "cells": [
    {
      "cell_type": "code",
      "metadata": {
        "id": "H3scRPBkzT3d"
      },
      "source": [
        "import numpy as np\n",
        "import pandas as pd"
      ],
      "execution_count": null,
      "outputs": []
    },
    {
      "cell_type": "code",
      "metadata": {
        "id": "XehaasJfzjaf"
      },
      "source": [
        "train_data = pd.read_csv('train.csv')\n",
        "test_data = pd.read_csv('test.csv')\n",
        "train_x = train_data.iloc[:,2:24]\n",
        "train_y = train_data.iloc[:,24]\n",
        "test_x = test_data.iloc[:,2:24]"
      ],
      "execution_count": null,
      "outputs": []
    },
    {
      "cell_type": "code",
      "metadata": {
        "colab": {
          "base_uri": "https://localhost:8080/"
        },
        "id": "X3VkQnvU3Iyk",
        "outputId": "db0c9ff7-21df-4bca-c410-0e32e564dfa5"
      },
      "source": [
        "test_x.shape"
      ],
      "execution_count": null,
      "outputs": [
        {
          "output_type": "execute_result",
          "data": {
            "text/plain": [
              "(19919, 22)"
            ]
          },
          "metadata": {
            "tags": []
          },
          "execution_count": 3
        }
      ]
    },
    {
      "cell_type": "code",
      "metadata": {
        "colab": {
          "base_uri": "https://localhost:8080/"
        },
        "id": "Bk94W4ZW4Glz",
        "outputId": "8165a52b-d19a-435f-d129-abb06d9bc631"
      },
      "source": [
        "train_x.shape"
      ],
      "execution_count": null,
      "outputs": [
        {
          "output_type": "execute_result",
          "data": {
            "text/plain": [
              "(36992, 22)"
            ]
          },
          "metadata": {
            "tags": []
          },
          "execution_count": 4
        }
      ]
    },
    {
      "cell_type": "code",
      "metadata": {
        "id": "JgrruVu65WX9"
      },
      "source": [
        "df = pd.concat([test_x.assign(ind=\"test\"), train_x.assign(ind=\"train\")])"
      ],
      "execution_count": null,
      "outputs": []
    },
    {
      "cell_type": "code",
      "metadata": {
        "colab": {
          "base_uri": "https://localhost:8080/"
        },
        "id": "EkDDpz3V6iK9",
        "outputId": "859cc7f2-342b-452b-c21b-c282401dfad3"
      },
      "source": [
        "df.isnull().sum()"
      ],
      "execution_count": null,
      "outputs": [
        {
          "output_type": "execute_result",
          "data": {
            "text/plain": [
              "age                                0\n",
              "gender                             0\n",
              "security_no                        0\n",
              "region_category                 8376\n",
              "membership_category                0\n",
              "joining_date                       0\n",
              "joined_through_referral            0\n",
              "referral_id                        0\n",
              "preferred_offer_types            447\n",
              "medium_of_operation                0\n",
              "internet_option                    0\n",
              "last_visit_time                    0\n",
              "days_since_last_login              0\n",
              "avg_time_spent                     0\n",
              "avg_transaction_value              0\n",
              "avg_frequency_login_days           0\n",
              "points_in_wallet                5406\n",
              "used_special_discount              0\n",
              "offer_application_preference       0\n",
              "past_complaint                     0\n",
              "complaint_status                   0\n",
              "feedback                           0\n",
              "ind                                0\n",
              "dtype: int64"
            ]
          },
          "metadata": {
            "tags": []
          },
          "execution_count": 6
        }
      ]
    },
    {
      "cell_type": "code",
      "metadata": {
        "colab": {
          "base_uri": "https://localhost:8080/"
        },
        "id": "Gkc8pZl46zXN",
        "outputId": "28b02983-4c83-48af-8c5b-3c986f25e9a2"
      },
      "source": [
        "for i in df.columns:\n",
        "  print(i,' :' ,len(df[i].unique()) ,' unique labels')"
      ],
      "execution_count": null,
      "outputs": [
        {
          "output_type": "stream",
          "text": [
            "age  : 55  unique labels\n",
            "gender  : 3  unique labels\n",
            "security_no  : 56911  unique labels\n",
            "region_category  : 4  unique labels\n",
            "membership_category  : 6  unique labels\n",
            "joining_date  : 1096  unique labels\n",
            "joined_through_referral  : 3  unique labels\n",
            "referral_id  : 14369  unique labels\n",
            "preferred_offer_types  : 4  unique labels\n",
            "medium_of_operation  : 4  unique labels\n",
            "internet_option  : 3  unique labels\n",
            "last_visit_time  : 41745  unique labels\n",
            "days_since_last_login  : 27  unique labels\n",
            "avg_time_spent  : 35745  unique labels\n",
            "avg_transaction_value  : 56637  unique labels\n",
            "avg_frequency_login_days  : 2569  unique labels\n",
            "points_in_wallet  : 31474  unique labels\n",
            "used_special_discount  : 2  unique labels\n",
            "offer_application_preference  : 2  unique labels\n",
            "past_complaint  : 2  unique labels\n",
            "complaint_status  : 5  unique labels\n",
            "feedback  : 9  unique labels\n",
            "ind  : 2  unique labels\n"
          ],
          "name": "stdout"
        }
      ]
    },
    {
      "cell_type": "code",
      "metadata": {
        "id": "dYfKDNta7h0-"
      },
      "source": [
        "df.drop(['security_no','joining_date','referral_id','last_visit_time','avg_frequency_login_days'], axis=1, inplace=True)"
      ],
      "execution_count": null,
      "outputs": []
    },
    {
      "cell_type": "code",
      "metadata": {
        "id": "qTcpiB_08V79"
      },
      "source": [
        "df['region_category'].fillna(\"None\",inplace=True)"
      ],
      "execution_count": null,
      "outputs": []
    },
    {
      "cell_type": "code",
      "metadata": {
        "id": "pfMheHk7AONs"
      },
      "source": [
        "df['preferred_offer_types'].fillna(\"Without Offers\",inplace=True)"
      ],
      "execution_count": null,
      "outputs": []
    },
    {
      "cell_type": "code",
      "metadata": {
        "id": "53lug6BWA4Rh"
      },
      "source": [
        "df['points_in_wallet'] = df['points_in_wallet'].fillna(df['points_in_wallet'].mean(axis=0))"
      ],
      "execution_count": null,
      "outputs": []
    },
    {
      "cell_type": "code",
      "metadata": {
        "colab": {
          "base_uri": "https://localhost:8080/",
          "height": 343
        },
        "id": "EmYqWeEB-Euj",
        "outputId": "ad473137-90a9-4386-b748-2a15c499b16d"
      },
      "source": [
        "df.head()"
      ],
      "execution_count": null,
      "outputs": [
        {
          "output_type": "execute_result",
          "data": {
            "text/html": [
              "<div>\n",
              "<style scoped>\n",
              "    .dataframe tbody tr th:only-of-type {\n",
              "        vertical-align: middle;\n",
              "    }\n",
              "\n",
              "    .dataframe tbody tr th {\n",
              "        vertical-align: top;\n",
              "    }\n",
              "\n",
              "    .dataframe thead th {\n",
              "        text-align: right;\n",
              "    }\n",
              "</style>\n",
              "<table border=\"1\" class=\"dataframe\">\n",
              "  <thead>\n",
              "    <tr style=\"text-align: right;\">\n",
              "      <th></th>\n",
              "      <th>age</th>\n",
              "      <th>gender</th>\n",
              "      <th>region_category</th>\n",
              "      <th>membership_category</th>\n",
              "      <th>joined_through_referral</th>\n",
              "      <th>preferred_offer_types</th>\n",
              "      <th>medium_of_operation</th>\n",
              "      <th>internet_option</th>\n",
              "      <th>days_since_last_login</th>\n",
              "      <th>avg_time_spent</th>\n",
              "      <th>avg_transaction_value</th>\n",
              "      <th>points_in_wallet</th>\n",
              "      <th>used_special_discount</th>\n",
              "      <th>offer_application_preference</th>\n",
              "      <th>past_complaint</th>\n",
              "      <th>complaint_status</th>\n",
              "      <th>feedback</th>\n",
              "      <th>ind</th>\n",
              "    </tr>\n",
              "  </thead>\n",
              "  <tbody>\n",
              "    <tr>\n",
              "      <th>0</th>\n",
              "      <td>50</td>\n",
              "      <td>F</td>\n",
              "      <td>Village</td>\n",
              "      <td>Premium Membership</td>\n",
              "      <td>No</td>\n",
              "      <td>Without Offers</td>\n",
              "      <td>Smartphone</td>\n",
              "      <td>Wi-Fi</td>\n",
              "      <td>12</td>\n",
              "      <td>386.26</td>\n",
              "      <td>40721.44</td>\n",
              "      <td>733.830000</td>\n",
              "      <td>Yes</td>\n",
              "      <td>No</td>\n",
              "      <td>No</td>\n",
              "      <td>Not Applicable</td>\n",
              "      <td>Poor Product Quality</td>\n",
              "      <td>test</td>\n",
              "    </tr>\n",
              "    <tr>\n",
              "      <th>1</th>\n",
              "      <td>41</td>\n",
              "      <td>M</td>\n",
              "      <td>Village</td>\n",
              "      <td>Gold Membership</td>\n",
              "      <td>No</td>\n",
              "      <td>Without Offers</td>\n",
              "      <td>Desktop</td>\n",
              "      <td>Fiber_Optic</td>\n",
              "      <td>11</td>\n",
              "      <td>37.80</td>\n",
              "      <td>9644.40</td>\n",
              "      <td>726.000000</td>\n",
              "      <td>Yes</td>\n",
              "      <td>No</td>\n",
              "      <td>No</td>\n",
              "      <td>Not Applicable</td>\n",
              "      <td>Poor Website</td>\n",
              "      <td>test</td>\n",
              "    </tr>\n",
              "    <tr>\n",
              "      <th>2</th>\n",
              "      <td>31</td>\n",
              "      <td>F</td>\n",
              "      <td>Town</td>\n",
              "      <td>Silver Membership</td>\n",
              "      <td>No</td>\n",
              "      <td>Gift Vouchers/Coupons</td>\n",
              "      <td>Both</td>\n",
              "      <td>Mobile_Data</td>\n",
              "      <td>18</td>\n",
              "      <td>215.36</td>\n",
              "      <td>3693.25</td>\n",
              "      <td>713.780000</td>\n",
              "      <td>Yes</td>\n",
              "      <td>No</td>\n",
              "      <td>Yes</td>\n",
              "      <td>Solved in Follow-up</td>\n",
              "      <td>No reason specified</td>\n",
              "      <td>test</td>\n",
              "    </tr>\n",
              "    <tr>\n",
              "      <th>3</th>\n",
              "      <td>64</td>\n",
              "      <td>M</td>\n",
              "      <td>Town</td>\n",
              "      <td>Silver Membership</td>\n",
              "      <td>Yes</td>\n",
              "      <td>Credit/Debit Card Offers</td>\n",
              "      <td>?</td>\n",
              "      <td>Fiber_Optic</td>\n",
              "      <td>-999</td>\n",
              "      <td>44.57</td>\n",
              "      <td>36809.56</td>\n",
              "      <td>744.970000</td>\n",
              "      <td>Yes</td>\n",
              "      <td>No</td>\n",
              "      <td>Yes</td>\n",
              "      <td>No Information Available</td>\n",
              "      <td>Too many ads</td>\n",
              "      <td>test</td>\n",
              "    </tr>\n",
              "    <tr>\n",
              "      <th>4</th>\n",
              "      <td>16</td>\n",
              "      <td>F</td>\n",
              "      <td>Town</td>\n",
              "      <td>No Membership</td>\n",
              "      <td>Yes</td>\n",
              "      <td>Without Offers</td>\n",
              "      <td>Smartphone</td>\n",
              "      <td>Mobile_Data</td>\n",
              "      <td>6</td>\n",
              "      <td>349.88</td>\n",
              "      <td>40675.86</td>\n",
              "      <td>299.048351</td>\n",
              "      <td>No</td>\n",
              "      <td>Yes</td>\n",
              "      <td>Yes</td>\n",
              "      <td>Solved in Follow-up</td>\n",
              "      <td>Poor Website</td>\n",
              "      <td>test</td>\n",
              "    </tr>\n",
              "  </tbody>\n",
              "</table>\n",
              "</div>"
            ],
            "text/plain": [
              "   age gender  ...              feedback   ind\n",
              "0   50      F  ...  Poor Product Quality  test\n",
              "1   41      M  ...          Poor Website  test\n",
              "2   31      F  ...   No reason specified  test\n",
              "3   64      M  ...          Too many ads  test\n",
              "4   16      F  ...          Poor Website  test\n",
              "\n",
              "[5 rows x 18 columns]"
            ]
          },
          "metadata": {
            "tags": []
          },
          "execution_count": 12
        }
      ]
    },
    {
      "cell_type": "code",
      "metadata": {
        "colab": {
          "base_uri": "https://localhost:8080/"
        },
        "id": "w52s1jvbOFiM",
        "outputId": "4b135c5d-da80-44c5-c8b4-34902a9e601b"
      },
      "source": [
        "df.dtypes"
      ],
      "execution_count": null,
      "outputs": [
        {
          "output_type": "execute_result",
          "data": {
            "text/plain": [
              "age                               int64\n",
              "gender                           object\n",
              "region_category                  object\n",
              "membership_category              object\n",
              "joined_through_referral          object\n",
              "preferred_offer_types            object\n",
              "medium_of_operation              object\n",
              "internet_option                  object\n",
              "days_since_last_login             int64\n",
              "avg_time_spent                  float64\n",
              "avg_transaction_value           float64\n",
              "points_in_wallet                float64\n",
              "used_special_discount            object\n",
              "offer_application_preference     object\n",
              "past_complaint                   object\n",
              "complaint_status                 object\n",
              "feedback                         object\n",
              "ind                              object\n",
              "dtype: object"
            ]
          },
          "metadata": {
            "tags": []
          },
          "execution_count": 13
        }
      ]
    },
    {
      "cell_type": "code",
      "metadata": {
        "colab": {
          "base_uri": "https://localhost:8080/"
        },
        "id": "LgT_dPd8Dbnn",
        "outputId": "bf1dcbde-3a24-4cd8-83aa-50a8411d4f4d"
      },
      "source": [
        "test_x, train_x = df[df[\"ind\"].eq(\"test\")], df[df[\"ind\"].eq(\"train\")]\n",
        "train_x.drop('ind', axis=1, inplace=True)\n",
        "test_x.drop('ind', axis=1, inplace=True)"
      ],
      "execution_count": null,
      "outputs": [
        {
          "output_type": "stream",
          "text": [
            "/usr/local/lib/python3.7/dist-packages/pandas/core/frame.py:4174: SettingWithCopyWarning: \n",
            "A value is trying to be set on a copy of a slice from a DataFrame\n",
            "\n",
            "See the caveats in the documentation: https://pandas.pydata.org/pandas-docs/stable/user_guide/indexing.html#returning-a-view-versus-a-copy\n",
            "  errors=errors,\n"
          ],
          "name": "stderr"
        }
      ]
    },
    {
      "cell_type": "code",
      "metadata": {
        "colab": {
          "base_uri": "https://localhost:8080/"
        },
        "id": "jX1kJ5-sEYk4",
        "outputId": "79101b18-85f0-4fc0-bb82-f3d993925f72"
      },
      "source": [
        "obj = (train_x.dtypes == 'object')\n",
        "object_cols = list(obj[obj].index)\n",
        "\n",
        "print(\"Categorical variables:\")\n",
        "print(object_cols)"
      ],
      "execution_count": null,
      "outputs": [
        {
          "output_type": "stream",
          "text": [
            "Categorical variables:\n",
            "['gender', 'region_category', 'membership_category', 'joined_through_referral', 'preferred_offer_types', 'medium_of_operation', 'internet_option', 'used_special_discount', 'offer_application_preference', 'past_complaint', 'complaint_status', 'feedback']\n"
          ],
          "name": "stdout"
        }
      ]
    },
    {
      "cell_type": "code",
      "metadata": {
        "id": "4ZmYotagDKQB"
      },
      "source": [
        "from sklearn.preprocessing import LabelEncoder\n",
        "encoder = LabelEncoder()\n",
        "label_X_train = train_x.copy()\n",
        "label_X_test = test_x.copy()\n",
        "for col in object_cols:\n",
        "  label_X_train[col] = encoder.fit_transform(train_x[col])\n",
        "  label_X_test[col] = encoder.transform(test_x[col])"
      ],
      "execution_count": null,
      "outputs": []
    },
    {
      "cell_type": "code",
      "metadata": {
        "colab": {
          "base_uri": "https://localhost:8080/"
        },
        "id": "UeS_NxixSAvg",
        "outputId": "1ab54166-f978-423e-9dee-90e0d665fd27"
      },
      "source": [
        "from sklearn.ensemble import RandomForestClassifier\n",
        "model = RandomForestClassifier(n_estimators=120)\n",
        "model.fit(label_X_train,train_y)"
      ],
      "execution_count": null,
      "outputs": [
        {
          "output_type": "execute_result",
          "data": {
            "text/plain": [
              "RandomForestClassifier(bootstrap=True, ccp_alpha=0.0, class_weight=None,\n",
              "                       criterion='gini', max_depth=None, max_features='auto',\n",
              "                       max_leaf_nodes=None, max_samples=None,\n",
              "                       min_impurity_decrease=0.0, min_impurity_split=None,\n",
              "                       min_samples_leaf=1, min_samples_split=2,\n",
              "                       min_weight_fraction_leaf=0.0, n_estimators=120,\n",
              "                       n_jobs=None, oob_score=False, random_state=None,\n",
              "                       verbose=0, warm_start=False)"
            ]
          },
          "metadata": {
            "tags": []
          },
          "execution_count": 18
        }
      ]
    },
    {
      "cell_type": "code",
      "metadata": {
        "id": "NBDbT2OIUQeW"
      },
      "source": [
        "y_pred = model.predict(label_X_test)"
      ],
      "execution_count": null,
      "outputs": []
    },
    {
      "cell_type": "code",
      "metadata": {
        "colab": {
          "base_uri": "https://localhost:8080/"
        },
        "id": "7AIj0t-yaWuk",
        "outputId": "ee4698e9-c746-48ff-cea8-8e533ad8ac6c"
      },
      "source": [
        "y_pred"
      ],
      "execution_count": null,
      "outputs": [
        {
          "output_type": "execute_result",
          "data": {
            "text/plain": [
              "array([4, 4, 4, ..., 4, 4, 4])"
            ]
          },
          "metadata": {
            "tags": []
          },
          "execution_count": 20
        }
      ]
    },
    {
      "cell_type": "code",
      "metadata": {
        "id": "TMGDt14HUzcv"
      },
      "source": [
        "output = pd.DataFrame({'customer_id':test_data['customer_id'], 'churn_risk_score':y_pred})\n",
        "output.to_csv('submission.csv', index=False)"
      ],
      "execution_count": null,
      "outputs": []
    }
  ]
}